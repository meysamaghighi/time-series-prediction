{
 "cells": [
  {
   "cell_type": "code",
   "execution_count": 1,
   "id": "9f06434c",
   "metadata": {},
   "outputs": [
    {
     "name": "stderr",
     "output_type": "stream",
     "text": [
      "C:\\Users\\eaghmey\\AppData\\Local\\Temp\\ipykernel_35196\\2557818281.py:2: DeprecationWarning: Importing display from IPython.core.display is deprecated since IPython 7.14, please import from IPython display\n",
      "  from IPython.core.display import display, HTML\n"
     ]
    },
    {
     "data": {
      "text/html": [
       "<style>.container { width:100% !important; }</style>"
      ],
      "text/plain": [
       "<IPython.core.display.HTML object>"
      ]
     },
     "metadata": {},
     "output_type": "display_data"
    }
   ],
   "source": [
    " ## Set max width in Jupyter notebook\n",
    "from IPython.core.display import display, HTML\n",
    "import pandas as pd\n",
    "display(HTML(\"<style>.container { width:100% !important; }</style>\"))\n",
    "pd.set_option(\"display.max_columns\", None)"
   ]
  },
  {
   "cell_type": "code",
   "execution_count": 2,
   "id": "76659389",
   "metadata": {},
   "outputs": [],
   "source": [
    "# Author: Meysam Aghighi\n",
    "# Contact: meysam.aghighi@gmail.com\n",
    "# Date: 2023-10-09\n",
    "# Description: Time series prediction Kaggle contest\n",
    "\n",
    "import pandas as pd\n",
    "import numpy as np\n",
    "import matplotlib.pyplot as plt\n",
    "import time\n",
    "import joblib\n",
    "import os\n",
    "from sklearn.model_selection import train_test_split\n",
    "from sklearn.metrics import mean_squared_log_error\n",
    "from sklearn.linear_model import LinearRegression\n",
    "from sklearn.ensemble import RandomForestRegressor\n",
    "from sklearn.svm import SVR\n",
    "from xgboost import XGBRegressor\n",
    "from lightgbm import LGBMRegressor\n",
    "from catboost import CatBoostRegressor\n",
    "from statsmodels.tsa.arima_model import ARIMA\n",
    "from statsmodels.tsa.statespace.sarimax import SARIMAX\n",
    "from keras.models import Sequential\n",
    "from keras.layers import LSTM, Conv1D, SimpleRNN, Dense\n",
    "from sklearn.ensemble import GradientBoostingRegressor\n",
    "from sklearn.tree import DecisionTreeRegressor\n",
    "from sklearn.neural_network import MLPRegressor\n",
    "from sklearn.linear_model import BayesianRidge"
   ]
  },
  {
   "cell_type": "code",
   "execution_count": 5,
   "id": "ef88da18",
   "metadata": {},
   "outputs": [],
   "source": [
    "## Read input data\n",
    "holiday_events_df = pd.read_csv('data/holidays_events.csv')\n",
    "oil_df = pd.read_csv('data/oil.csv')\n",
    "sample_submission_df = pd.read_csv('data/sample_submission.csv')\n",
    "stores_df = pd.read_csv('data/stores.csv')\n",
    "test_df = pd.read_csv('data/test.csv')\n",
    "train_df = pd.read_csv('data/train.csv')\n",
    "transactions_df = pd.read_csv('data/transactions.csv')"
   ]
  },
  {
   "cell_type": "markdown",
   "id": "48885310",
   "metadata": {},
   "source": [
    "#### Step 1: Data Preprocessing\n",
    "Load and preprocess the dataset. This includes handling missing values, encoding categorical variables ('family' and 'onpromotion'), and sorting by date."
   ]
  },
  {
   "cell_type": "code",
   "execution_count": 43,
   "id": "8694efde",
   "metadata": {},
   "outputs": [],
   "source": [
    "# Handle missing values if any\n",
    "train_df.fillna(0, inplace=True)  # Replace missing values with 0, or use another strategy\n",
    "\n",
    "# Preprocess the 'date' column\n",
    "train_df['date'] = pd.to_datetime(train_df['date'])\n",
    "train_df['year'] = train_df['date'].dt.year\n",
    "train_df['month'] = train_df['date'].dt.month\n",
    "train_df['day'] = train_df['date'].dt.day\n",
    "train_df['day_of_week'] = train_df['date'].dt.dayofweek\n",
    "\n",
    "# Encode categorical variables\n",
    "train_df = pd.get_dummies(train_df, columns=['family'])\n",
    "\n",
    "# Sort by data properly (by date or id)\n",
    "# train_df['date'] = pd.to_datetime(train_df['date'])\n",
    "# train_df = train_df.sort_values(by='date')\n",
    "train_df = train_df.sort_values(by='id')"
   ]
  },
  {
   "cell_type": "markdown",
   "id": "1a6022b2",
   "metadata": {},
   "source": [
    "#### Step 2: Train-Validation Split\n",
    "Split the dataset into training and validation sets, keeping the temporal order."
   ]
  },
  {
   "cell_type": "code",
   "execution_count": 44,
   "id": "eaf20275",
   "metadata": {},
   "outputs": [],
   "source": [
    "# Define the split point (e.g., 80% train, 20% validation)\n",
    "split_point = int(0.2 * len(train_df))\n",
    "\n",
    "# Split the data\n",
    "train_data = train_df[:split_point]\n",
    "validation_data = train_df[split_point:]"
   ]
  },
  {
   "cell_type": "markdown",
   "id": "523ba777",
   "metadata": {},
   "source": [
    "#### Step 3: Model Selection and Training\n",
    "Choose a machine learning model for time series forecasting. In this example, we'll use XGBoost, which is a popular choice for such problems."
   ]
  },
  {
   "cell_type": "code",
   "execution_count": 45,
   "id": "4307be83",
   "metadata": {},
   "outputs": [],
   "source": [
    "# Define the features and target variable\n",
    "features = ['year', 'month', 'day', 'day_of_week', 'store_nbr'] + [col for col in train_df.columns if col.startswith('family_')] + ['onpromotion']\n",
    "\n",
    "# Define the training data\n",
    "X_train = train_data[features]\n",
    "y_train = train_data['sales']\n",
    "\n",
    "# Define the validation data\n",
    "X_valid = validation_data[features]\n",
    "y_valid = validation_data['sales']"
   ]
  },
  {
   "cell_type": "markdown",
   "id": "e01c28a5",
   "metadata": {},
   "source": [
    "#### Step 4: Training and Evaluation\n",
    "Training and evaluation for many models."
   ]
  },
  {
   "cell_type": "code",
   "execution_count": null,
   "id": "f4082e8f",
   "metadata": {
    "scrolled": false
   },
   "outputs": [
    {
     "name": "stdout",
     "output_type": "stream",
     "text": [
      "Linear Regression RMSLE: 9.54 Time (s): 4.34\n",
      "Random Forest RMSLE: 2.04 Time (s): 64.08\n"
     ]
    }
   ],
   "source": [
    "# Define a list of models\n",
    "models = [\n",
    "    (\"Linear Regression\", LinearRegression()),\n",
    "    (\"Random Forest\", RandomForestRegressor(n_estimators=10, random_state=42)),\n",
    "    (\"SVR\", SVR(kernel='rbf')),\n",
    "    (\"XGBoost\", XGBRegressor(n_estimators=10, learning_rate=0.1, random_state=42)),\n",
    "    (\"LightGBM\", LGBMRegressor(n_estimators=10, random_state=42)),\n",
    "    (\"CatBoost\", CatBoostRegressor(iterations=10, random_state=42, verbose=0)),\n",
    "    # ARIMA and SARIMA models will be handled separately.\n",
    "    # LSTM, CNN and RNN models will be handled separately.\n",
    "    (\"Gradient Boosting\", GradientBoostingRegressor(n_estimators=10, random_state=42)),\n",
    "    (\"Decision Tree\", DecisionTreeRegressor(random_state=42)),\n",
    "    (\"MLP\", MLPRegressor(hidden_layer_sizes=(100, 50), max_iter=1000, random_state=42)),\n",
    "    (\"Bayesian Ridge\", BayesianRidge())\n",
    "]\n",
    "\n",
    "# Create a directory to store models and predictions\n",
    "output_dir = 'trained_models_and_predictions'\n",
    "os.makedirs(output_dir, exist_ok=True)\n",
    "\n",
    "best_model = None\n",
    "best_rmsle = float('inf')\n",
    "\n",
    "# Train and evaluate the models\n",
    "for model_name, model in models:\n",
    "    start_time = time.time()\n",
    "    \n",
    "    model.fit(X_train, y_train)\n",
    "    y_pred = model.predict(X_valid)\n",
    "    y_pred = [max(value, 0) for value in y_pred]\n",
    "    \n",
    "    rmsle = np.sqrt(mean_squared_log_error(y_valid, y_pred))\n",
    "    \n",
    "    training_time = time.time() - start_time\n",
    "    print(f\"{model_name} RMSLE: {rmsle:.2f} Time (s): {training_time:.2f}\")\n",
    "    \n",
    "    # Save the model if it has the lowest RMSLE\n",
    "    if rmsle < best_rmsle:\n",
    "        best_model = model\n",
    "        best_rmsle = rmsle\n",
    "    \n",
    "    # Save the predictions\n",
    "    predictions_filename = f'{output_dir}/{model_name}_predictions.pkl'\n",
    "    joblib.dump(y_pred, predictions_filename)\n",
    "\n",
    "# Save the best model\n",
    "best_model_filename = f'{output_dir}/best_model.pkl'\n",
    "joblib.dump(best_model, best_model_filename)"
   ]
  },
  {
   "cell_type": "code",
   "execution_count": null,
   "id": "7cfde544",
   "metadata": {},
   "outputs": [],
   "source": [
    "# Handle ARIMA and SARIMA separately.\n",
    "arima_model = ARIMA(y_train.values.astype('float32'), order=(5, 1, 0))\n",
    "arima_model_fit = arima_model.fit(disp=0)\n",
    "y_pred_arima = arima_model_fit.forecast(steps=len(X_valid))[0]\n",
    "rmsle_arima = np.sqrt(mean_squared_log_error(y_valid.values.astype('float32'), y_pred_arima))\n",
    "print(f\"ARIMA RMSLE: {rmsle_arima:.2f}\")\n",
    "\n",
    "sarima_model = SARIMAX(y_train.values.astype('float32'), order=(1, 1, 1), seasonal_order=(1, 1, 1, 12))\n",
    "sarima_model_fit = sarima_model.fit(disp=0)\n",
    "y_pred_sarima = sarima_model_fit.forecast(steps=len(X_valid))[0]\n",
    "rmsle_sarima = np.sqrt(mean_squared_log_error(y_valid.values.astype('float32'), y_pred_sarima))\n",
    "print(f\"SARIMA RMSLE: {rmsle_sarima:.2f}\")"
   ]
  },
  {
   "cell_type": "code",
   "execution_count": null,
   "id": "4427dbcd",
   "metadata": {},
   "outputs": [],
   "source": [
    "# Handle LSTM, CNN and RNN separately.\n",
    "X_train_reshaped = X_train.values.reshape(X_train.shape[0], X_train.shape[1], 1)\n",
    "X_valid_reshaped = X_valid.values.reshape(X_valid.shape[0], X_valid.shape[1], 1)\n",
    "\n",
    "lstm_model = Sequential([\n",
    "        LSTM(50, activation='relu', input_shape=(X_train.shape[1], 1)),\n",
    "        Dense(1)\n",
    "])\n",
    "lstm_model.compile(loss='mean_squared_log_error', optimizer='adam')\n",
    "lstm_model.fit(X_train_reshaped, y_train, epochs=10, batch_size=64)\n",
    "y_pred_lstm = lstm_model.predict(X_valid_reshaped).flatten()\n",
    "rmsle_lstm = np.sqrt(mean_squared_log_error(y_valid.values.astype('float32'), y_pred_lstm))\n",
    "print(f\"LSTM RMSLE: {rmsle_lstm:.2f}\")\n",
    "\n",
    "cnn_model = Sequential([\n",
    "        Conv1D(filters=64, kernel_size=2, activation='relu', input_shape=(X_train.shape[1], 1)),\n",
    "        Dense(1)\n",
    "])\n",
    "cnn_model.compile(loss='mean_squared_log_error', optimizer='adam')\n",
    "cnn_model.fit(X_train_reshaped, y_train, epochs=10, batch_size=64)\n",
    "y_pred_cnn = cnn_model.predict(X_valid_reshaped).flatten()\n",
    "rmsle_cnn = np.sqrt(mean_squared_log_error(y_valid.values.astype('float32'), y_pred_cnn))\n",
    "print(f\"CNN RMSLE: {rmsle_cnn:.2f}\")\n",
    "\n",
    "rnn_model = Sequential([\n",
    "        SimpleRNN(50, activation='relu', input_shape=(X_train.shape[1], 1)),\n",
    "        Dense(1)\n",
    "])\n",
    "rnn_model.compile(loss='mean_squared_log_error', optimizer='adam')\n",
    "rnn_model.fit(X_train_reshaped, y_train, epochs=10, batch_size=64)\n",
    "y_pred_rnn = rnn_model.predict(X_valid_reshaped).flatten()\n",
    "rmsle_rnn = np.sqrt(mean_squared_log_error(y_valid.values.astype('float32'), y_pred_rnn))\n",
    "print(f\"RNN RMSLE: {rmsle_rnn:.2f}\")"
   ]
  },
  {
   "cell_type": "markdown",
   "id": "7d457815",
   "metadata": {},
   "source": [
    "#### Visualize comparison\n",
    "Plot to compare the predicted and real sales values."
   ]
  },
  {
   "cell_type": "code",
   "execution_count": 20,
   "id": "bcdbcc73",
   "metadata": {},
   "outputs": [
    {
     "data": {
      "image/png": "[encoded data removed]",
      "text/plain": [
       "<Figure size 1000x600 with 1 Axes>"
      ]
     },
     "metadata": {},
     "output_type": "display_data"
    }
   ],
   "source": [
    "import matplotlib.pyplot as plt\n",
    "\n",
    "# Assuming you already have 'y_pred' (predicted sales) and 'y_valid' (actual sales) calculated\n",
    "\n",
    "# Create a scatter plot\n",
    "plt.figure(figsize=(10, 6))\n",
    "plt.scatter(y_valid, y_pred, alpha=0.5)\n",
    "plt.xlabel('Actual Sales')\n",
    "plt.ylabel('Predicted Sales')\n",
    "plt.title('Predicted vs. Actual Sales')\n",
    "plt.grid(True)\n",
    "\n",
    "# Add a diagonal line for reference (perfect predictions)\n",
    "plt.plot([min(y_valid), max(y_valid)], [min(y_valid), max(y_valid)], linestyle='--', color='red', linewidth=2)\n",
    "\n",
    "plt.show()"
   ]
  },
  {
   "cell_type": "code",
   "execution_count": 24,
   "id": "2c4f3ff4",
   "metadata": {},
   "outputs": [
    {
     "data": {
      "text/plain": [
       "(2400710, 39)"
      ]
     },
     "execution_count": 24,
     "metadata": {},
     "output_type": "execute_result"
    }
   ],
   "source": [
    "X_train.shape"
   ]
  },
  {
   "cell_type": "code",
   "execution_count": 26,
   "id": "ec14c26c",
   "metadata": {},
   "outputs": [
    {
     "data": {
      "text/plain": [
       "pandas.core.series.Series"
      ]
     },
     "execution_count": 26,
     "metadata": {},
     "output_type": "execute_result"
    }
   ],
   "source": [
    "type(y_train)"
   ]
  },
  {
   "cell_type": "code",
   "execution_count": null,
   "id": "909a1a2e",
   "metadata": {},
   "outputs": [],
   "source": []
  }
 ],
 "metadata": {
  "kernelspec": {
   "display_name": "Python 3 (ipykernel)",
   "language": "python",
   "name": "python3"
  },
  "language_info": {
   "codemirror_mode": {
    "name": "ipython",
    "version": 3
   },
   "file_extension": ".py",
   "mimetype": "text/x-python",
   "name": "python",
   "nbconvert_exporter": "python",
   "pygments_lexer": "ipython3",
   "version": "3.11.1"
  }
 },
 "nbformat": 4,
 "nbformat_minor": 5
}
